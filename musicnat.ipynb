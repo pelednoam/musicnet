{
 "cells": [
  {
   "cell_type": "markdown",
   "metadata": {},
   "source": [
    "## Installation\n",
    "from the code folder, run the following command:\n",
    "```\n",
    "conda env update --file environment.yml\n",
    "```\n",
    "And then activate the new environment:\n",
    "```\n",
    "conda activate musicnat\n",
    "```\n",
    "The full code can be found here:\n",
    "https://github.com/pelednoam/musicnet"
   ]
  },
  {
   "cell_type": "markdown",
   "metadata": {
    "collapsed": true
   },
   "source": [
    "## Parsing the audio files\n",
    "\n",
    "### Converting mid to wav \n",
    "After trying without success to parse the mid files using many different python packages, on different operating systems, I decided I will first convert all of them to wav\n",
    "\n",
    "### Reading the wav files\n",
    "This code  iterates on the files, both for training and testing:"
   ]
  },
  {
   "cell_type": "code",
   "execution_count": 1,
   "metadata": {},
   "outputs": [],
   "source": [
    "import os.path as op\n",
    "import glob\n",
    "\n",
    "TRAINING_FOL = 'training-folder-with-audio-files'\n",
    "TESTING_FOL = 'testing-folder-with-flat-audio-files'\n",
    "\n",
    "def songs_iterator(songs_fol, songs_type='wav'):\n",
    "    if songs_fol == TRAINING_FOL:\n",
    "        composers = [op.basename(d) for d in glob.glob(op.join(songs_fol, '*')) if op.isdir(d)]\n",
    "        for composer in composers:\n",
    "            for song_fname in glob.glob(op.join(songs_fol, composer, '*.{}'.format(songs_type))):\n",
    "                yield song_fname, composer\n",
    "    elif songs_fol == TESTING_FOL:\n",
    "        for song_fname in glob.glob(op.join(songs_fol, '*.{}'.format(songs_type))):\n",
    "            yield song_fname, None"
   ]
  },
  {
   "cell_type": "markdown",
   "metadata": {},
   "source": [
    "# Features extraction\n",
    "\n",
    "The next step is the extract the features from the audio files. The function get 5 parameters:\n",
    "* songs_fol: The root directory of the songs\n",
    "* buffer_len: The songs are read using sliding window to emulate reading from buffers of buffer_len seconds\n",
    "* buffer_shift: The shift (in seconds) of the window\n",
    "* songs_type: What songs type to look for (wav/mp3...)\n",
    "* n_jobs: The analysis can be paralleled using n_jobs jobs"
   ]
  },
  {
   "cell_type": "code",
   "execution_count": null,
   "metadata": {},
   "outputs": [],
   "source": [
    "import utils\n",
    "import songs_utils\n",
    "import numpy as np\n",
    "import pandas as pd\n",
    "\n",
    "def read_audio_files(songs_fol, buffer_len=30, buffer_shift=10, songs_type='wav', n_jobs=4):\n",
    "    is_training = songs_fol == TRAINING_FOL\n",
    "    songs_composers_fname = op.join(PROJECT_FOL, 'songs_composers.pkl')\n",
    "    songs_features_fname = op.join(PROJECT_FOL, 'songs_features_{}.csv'.format(\n",
    "        'training' if is_training else 'testing'))\n",
    "    songs_fnames = []\n",
    "    songs_composers = {}\n",
    "    all_features = pd.DataFrame(columns=songs_utils.columns(), dtype=np.float32)\n",
    "    for song_fname, composer in songs_iterator(songs_fol, songs_type):\n",
    "        file_name = op.basename(song_fname)\n",
    "        songs_fnames.append(song_fname)\n",
    "        if is_training:\n",
    "            songs_composers[file_name] = composer\n",
    "    # Separate the data into n_jobs chunks\n",
    "    indices = np.array_split(np.arange(len(songs_fnames)), n_jobs)\n",
    "    chunks = [([songs_fnames[info_ind] for info_ind in indices_chunk], buffer_len, buffer_shift)\n",
    "              for indices_chunk in indices]\n",
    "    results = utils.run_parallel(calc_songs_features, chunks, n_jobs)\n",
    "    # Go over the results from the different chunks and concatenate them\n",
    "    for chunk_features in results:\n",
    "        all_features = pd.concat([all_features, chunk_features])\n",
    "    print('Writing songs in {}'.format(songs_features_fname))\n",
    "    all_features.to_csv(songs_features_fname)\n",
    "    if is_training:\n",
    "        utils.save(songs_composers, songs_composers_fname)"
   ]
  },
  {
   "cell_type": "markdown",
   "metadata": {},
   "source": [
    "This function will be run the following function in parallel:"
   ]
  },
  {
   "cell_type": "code",
   "execution_count": null,
   "metadata": {},
   "outputs": [],
   "source": [
    "from tqdm import tqdm\n",
    "\n",
    "def calc_songs_features(params):\n",
    "    songs_fnames, buffer_len, buffer_shift = params\n",
    "    chunk_features = pd.DataFrame(columns=songs_utils.columns(), dtype=np.float32)\n",
    "    for song_fname in tqdm(songs_fnames):\n",
    "        all_features = songs_utils.compute_features(song_fname, buffer_len, buffer_shift)\n",
    "        # Go over the features from the different buffers (windows) and add them to the DataFrame\n",
    "        for buffer_ind, features in enumerate(all_features):\n",
    "            key = '{}_{}'.format(op.basename(song_fname), buffer_ind)\n",
    "            if features is not None:\n",
    "                chunk_features.loc[key] = features\n",
    "    return chunk_features"
   ]
  },
  {
   "cell_type": "markdown",
   "metadata": {},
   "source": [
    "That will run the actual function that computes the features, songs_utils.compute_features:"
   ]
  },
  {
   "cell_type": "code",
   "execution_count": null,
   "metadata": {},
   "outputs": [],
   "source": [
    "def columns():\n",
    "    feature_sizes = dict(chroma_stft=12, chroma_cqt=12, chroma_cens=12,\n",
    "                         tonnetz=6, mfcc=20, rmse=1, zcr=1,\n",
    "                         spectral_centroid=1, spectral_bandwidth=1,\n",
    "                         spectral_contrast=7, spectral_rolloff=1)\n",
    "    moments = ('mean', 'std', 'skew', 'kurtosis', 'median', 'min', 'max')\n",
    "\n",
    "    columns = []\n",
    "    for name, size in feature_sizes.items():\n",
    "        for moment in moments:\n",
    "            it = ((name, moment, '{:02d}'.format(i+1)) for i in range(size))\n",
    "            columns.extend(it)\n",
    "\n",
    "    names = ('feature', 'statistics', 'number')\n",
    "    columns = pd.MultiIndex.from_tuples(columns, names=names)\n",
    "\n",
    "    # More efficient to slice if indexes are sorted.\n",
    "    return columns.sort_values()\n",
    "\n",
    "\n",
    "def compute_features(song_fname, buffer_len=30, buffer_shift=10):\n",
    "    from scipy import stats\n",
    "    import librosa\n",
    "\n",
    "    def feature_stats(name, values):\n",
    "        features[name, 'mean'] = np.mean(values, axis=1)\n",
    "        features[name, 'std'] = np.std(values, axis=1)\n",
    "        features[name, 'skew'] = stats.skew(values, axis=1)\n",
    "        features[name, 'kurtosis'] = stats.kurtosis(values, axis=1)\n",
    "        features[name, 'median'] = np.median(values, axis=1)\n",
    "        features[name, 'min'] = np.min(values, axis=1)\n",
    "        features[name, 'max'] = np.max(values, axis=1)\n",
    "\n",
    "    all_x, sr = librosa.load(song_fname, sr=None, mono=True)  # kaiser_fast\n",
    "    # Calculate the sliding windows\n",
    "    windows = utils.calc_windows(len(all_x), buffer_len * sr, buffer_shift * sr)\n",
    "    all_features = []\n",
    "    for window in windows:\n",
    "        features = pd.Series(index=columns(), dtype=np.float32, name=song_fname)\n",
    "\n",
    "        # Creating a buffer of buffer_len seconds\n",
    "        x = all_x[window[0]: window[1]]\n",
    "\n",
    "        try:\n",
    "            f = librosa.feature.zero_crossing_rate(x, frame_length=2048, hop_length=512)\n",
    "            feature_stats('zcr', f)\n",
    "\n",
    "            cqt = np.abs(librosa.cqt(x, sr=sr, hop_length=512, bins_per_octave=12,\n",
    "                                     n_bins=7*12, tuning=None))\n",
    "            assert cqt.shape[0] == 7 * 12\n",
    "            assert np.ceil(len(x)/512) <= cqt.shape[1] <= np.ceil(len(x)/512)+1\n",
    "\n",
    "            f = librosa.feature.chroma_cqt(C=cqt, n_chroma=12, n_octaves=7)\n",
    "            feature_stats('chroma_cqt', f)\n",
    "            f = librosa.feature.chroma_cens(C=cqt, n_chroma=12, n_octaves=7)\n",
    "            feature_stats('chroma_cens', f)\n",
    "            f = librosa.feature.tonnetz(chroma=f)\n",
    "            feature_stats('tonnetz', f)\n",
    "\n",
    "            stft = np.abs(librosa.stft(x, n_fft=2048, hop_length=512))\n",
    "            f = librosa.feature.chroma_stft(S=stft**2, n_chroma=12)\n",
    "            feature_stats('chroma_stft', f)\n",
    "\n",
    "            f = librosa.feature.spectral_centroid(S=stft)\n",
    "            feature_stats('spectral_centroid', f)\n",
    "            f = librosa.feature.spectral_bandwidth(S=stft)\n",
    "            feature_stats('spectral_bandwidth', f)\n",
    "            f = librosa.feature.spectral_contrast(S=stft, n_bands=6)\n",
    "            feature_stats('spectral_contrast', f)\n",
    "            f = librosa.feature.spectral_rolloff(S=stft)\n",
    "            feature_stats('spectral_rolloff', f)\n",
    "\n",
    "            mel = librosa.feature.melspectrogram(sr=sr, S=stft**2)\n",
    "            del stft\n",
    "            f = librosa.feature.mfcc(S=librosa.power_to_db(mel), n_mfcc=20)\n",
    "            feature_stats('mfcc', f)\n",
    "\n",
    "            all_features.append(features)\n",
    "\n",
    "        except Exception as e:\n",
    "            print('{}: {}'.format(song_fname, repr(e)))\n",
    "            features = None\n",
    "\n",
    "    return all_features\n"
   ]
  },
  {
   "cell_type": "markdown",
   "metadata": {},
   "source": [
    "This function is based on the following paper: </br>\n",
    "https://arxiv.org/abs/1612.01840 </br>\n",
    "The paper describes a free audio dataset (FMA), and discusses how to evaluate some baselines for genre recognition.\n",
    "In their code, they used the library librosa to calculate features from audio files.\n",
    "I used their code here, with small variations, to calculate the same list of features as in their paper."
   ]
  },
  {
   "cell_type": "markdown",
   "metadata": {},
   "source": [
    "# Training\n",
    "We will read the features from the csv file, and prepare the data for training:"
   ]
  },
  {
   "cell_type": "code",
   "execution_count": null,
   "metadata": {},
   "outputs": [],
   "source": [
    "train_features = pd.read_csv(songs_train_features_fname, index_col=0, header=[0, 1, 2])\n",
    "songs_names = get_songs_names(train_features)\n",
    "songs_composers = utils.load(songs_composers_fname)\n",
    "labels = [songs_composers[get_song_name(buffer_name, True)] for buffer_name in train_features.index]\n",
    "\n",
    "X = standardize_features(train_features)\n",
    "y = encode_labels(labels)\n",
    "\n",
    "\n",
    "def standardize_features(features):\n",
    "    from sklearn.preprocessing import StandardScaler\n",
    "    X = features.values\n",
    "    # Remove nans\n",
    "    X[np.where(np.isnan(X))] = 0\n",
    "    # Standardize features by removing the mean and scaling to unit variance.\n",
    "    scaler = StandardScaler(copy=False)\n",
    "    X = scaler.fit_transform(X)\n",
    "    return X\n",
    "\n",
    "\n",
    "def encode_labels(labels):\n",
    "    from sklearn.preprocessing import LabelEncoder\n",
    "    # Encode the labels\n",
    "    enc = LabelEncoder()\n",
    "    y = enc.fit_transform(labels)\n",
    "    return y"
   ]
  },
  {
   "cell_type": "markdown",
   "metadata": {},
   "source": [
    "## Features selection\n",
    "Next, we will do dimensionality reduction. The number of features (518) is too high, compared to the number of examples in the dataset. This can cause overfitting of the model.\n",
    "To solve this issue, we will use features selection using SelectKBest and mutual information statistics to score the features:"
   ]
  },
  {
   "cell_type": "code",
   "execution_count": null,
   "metadata": {},
   "outputs": [],
   "source": [
    "from sklearn.feature_selection import SelectKBest, mutual_info_classif\n",
    "features_selection_model = SelectKBest(mutual_info_classif, k=features_selection_num).fit(X, y)\n",
    "utils.save(features_selection_model, op.join(PROJECT_FOL, 'features_selection_model.pkl'))\n",
    "X = features_selection_model.transform(X)"
   ]
  },
  {
   "cell_type": "markdown",
   "metadata": {},
   "source": [
    "Where here I set features_selection_num=50. This number should be tuned in the future. The features_selection_model is saved to be used on the testing dataset.\n",
    "\n",
    "Next, we will identify and compare a list of classifiers to use on the data. We will only use classifiers that can calculate the labels' probabilities and not only predict the labels. We will later use these probabilities to find outliers.\n",
    "\n",
    "## Classifiers"
   ]
  },
  {
   "cell_type": "code",
   "execution_count": null,
   "metadata": {},
   "outputs": [],
   "source": [
    "def get_classifiers():\n",
    "    from sklearn.linear_model import LogisticRegression\n",
    "    from sklearn.neighbors import KNeighborsClassifier\n",
    "    from sklearn.svm import SVC\n",
    "    from sklearn.tree import DecisionTreeClassifier\n",
    "    from sklearn.ensemble import RandomForestClassifier\n",
    "    from sklearn.neural_network import MLPClassifier\n",
    "    from sklearn.experimental import enable_halving_search_cv\n",
    "    from sklearn.model_selection import HalvingGridSearchCV\n",
    "    from sklearn.ensemble import ExtraTreesClassifier\n",
    "\n",
    "    # Identify the possible hyper params for rbf SVC\n",
    "    gammas = [1e-1, 1e-2, 1e-3, 1e-4, 1e-5, 1e-6, 1e-7]\n",
    "    Cs = [1, 10, 100, 1e3, 1e4, 1e5]\n",
    "    svc_rbf_params_grid = {\"gamma\": gammas, \"C\": Cs}\n",
    "    scv_rbf_clf = SVC(kernel='rbf', probability=True)\n",
    "\n",
    "    # Identify the possible hyper params for poly SVC\n",
    "    poly_degrees = np.arange(1, 11)\n",
    "    svc_poly_params_grid = {\"degree\": poly_degrees}\n",
    "    scv_poly_clf = SVC(kernel='poly', probability=True)\n",
    "\n",
    "    classifiers = {\n",
    "        'LR1': LogisticRegression(penalty='l1', max_iter=2000, solver='liblinear'),\n",
    "        'LR2': LogisticRegression(penalty='l2', max_iter=2000),\n",
    "        'kNN': KNeighborsClassifier(),\n",
    "        'SCVrbf': HalvingGridSearchCV(\n",
    "            estimator=scv_rbf_clf, param_grid=svc_rbf_params_grid, factor=3),\n",
    "        'SVCpoly': HalvingGridSearchCV(\n",
    "            estimator=scv_poly_clf, param_grid=svc_poly_params_grid, factor=3), \n",
    "        'linSVC': SVC(kernel='linear', probability=True),\n",
    "        'DecisionTree': DecisionTreeClassifier(),\n",
    "        'RandomForest': RandomForestClassifier(),\n",
    "        'ExtraTrees': ExtraTreesClassifier(n_estimators=100),\n",
    "        'MLP1': MLPClassifier(hidden_layer_sizes=(100,), max_iter=2000),\n",
    "        'MLP2': MLPClassifier(hidden_layer_sizes=(200, 50), max_iter=2000),\n",
    "    }\n",
    "    return classifiers"
   ]
  },
  {
   "cell_type": "markdown",
   "metadata": {},
   "source": [
    "For tuning the hyperparams, we are using here HalvingGridSearchCV, which is faster than the GridSearchCV.\n",
    "\n",
    "## train test split\n",
    "Our data is highly imbalanced. To avoid bias toward one of the labels, we will calculate which label with the smallest number of items, and pick the same number of items from each label"
   ]
  },
  {
   "cell_type": "code",
   "execution_count": null,
   "metadata": {},
   "outputs": [],
   "source": [
    "def split_equally(y, n_split=10, test_size=0.1):\n",
    "    from collections import Counter\n",
    "    from operator import itemgetter\n",
    "    from sklearn.model_selection import train_test_split\n",
    "\n",
    "    y_count = Counter(y)\n",
    "    # Find the lowest number of items\n",
    "    n_per_class = min(y_count.items(), key=itemgetter(1))[1]\n",
    "    inds_all = []\n",
    "    for _ in range(n_split):\n",
    "        inds_train, inds_test = np.array([], dtype=np.int64), np.array([], dtype=np.int64)\n",
    "        for label in set(y):\n",
    "            select_inds = np.random.choice(np.where(y == label)[0], n_per_class, replace=False)\n",
    "            if test_size > 0:\n",
    "                label_inds_train, label_inds_test = train_test_split(select_inds, test_size=test_size)\n",
    "            else:\n",
    "                # No test, only train\n",
    "                label_inds_train, label_inds_test = select_inds, []\n",
    "            inds_train = np.concatenate((inds_train, label_inds_train))\n",
    "            inds_test = np.concatenate((inds_test, label_inds_test))\n",
    "        inds_all.append((inds_train, inds_test))\n",
    "    return inds_all"
   ]
  },
  {
   "cell_type": "markdown",
   "metadata": {},
   "source": [
    "Where n_split is the number of splits, and test_size is the test size (0-1). This function randomly chooses n_per_class items from each class, and divides them into train and test indices using  sklearn.model_selection.train_test_split.\n",
    "\n",
    "## Fit, predict, and calculate the scores for each split"
   ]
  },
  {
   "cell_type": "code",
   "execution_count": null,
   "metadata": {},
   "outputs": [],
   "source": [
    "def calc_training_scores(X, y, classifiers, figures_fol, songs_names, overwrite=False):\n",
    "    from collections import defaultdict\n",
    "    from sklearn.metrics import confusion_matrix\n",
    "\n",
    "    scores_fname = op.join(PROJECT_FOL, 'all_train_scores.pkl')\n",
    "    # If we've already ran this function, and don't want to overwrite, we can just load the scores\n",
    "    if op.isfile(scores_fname) and not overwrite:\n",
    "        all_scores, conf_mats = utils.load(scores_fname)\n",
    "        return all_scores, conf_mats\n",
    "\n",
    "    all_scores, all_probs_scores, conf_mats = defaultdict(list), defaultdict(list), {}\n",
    "    labels_num = len(set(y))\n",
    "    # Split equally (same number of items per label) using 10 splits and 10% for testing \n",
    "    data_split = split_equally(y, n_split=10, test_size=0.1)\n",
    "    for clf_name, clf in tqdm(classifiers.items()):\n",
    "        conf_mat = np.zeros((labels_num, labels_num))\n",
    "        for split_ind, (train, test) in enumerate(data_split):\n",
    "            clf.fit(X[train], y[train])\n",
    "            pred_model = clf.predict(X[test])\n",
    "            probs = clf.predict_proba(X[test])\n",
    "            # Calculate the different scores\n",
    "            conf_mat += confusion_matrix(pred_model, y[test])\n",
    "            score = clf.score(X[test], y[test])\n",
    "            # Calc how much the classifer is \"sure\" about the decision \n",
    "            max_prob_score = np.mean(np.max(probs, axis=1))\n",
    "            # Calc how much the classifer is \"uncertain\" about the decision\n",
    "            var_prob_score = np.mean(np.var(probs, axis=1))\n",
    "            roc_auc_ovo, roc_auc_ovr = calc_auc(y[test], probs)\n",
    "            all_scores[clf_name].append((score, max_prob_score,  var_prob_score, roc_auc_ovo, roc_auc_ovr))\n",
    "        conf_mats[clf_name] = conf_mat\n",
    "    utils.save((all_scores, conf_mats), scores_fname)\n",
    "    return all_scores, conf_mats\n",
    "\n",
    "\n",
    "def calc_auc(y_test, y_prob):\n",
    "    from sklearn.metrics import roc_auc_score\n",
    "    roc_auc_ovo = roc_auc_score(y_test, y_prob, multi_class=\"ovo\", average=\"macro\") # One-vs-one\n",
    "    roc_auc_ovr = roc_auc_score(y_test, y_prob, multi_class=\"ovr\", average=\"macro\") # One-vs-rest\n",
    "    return roc_auc_ovo, roc_auc_ovr"
   ]
  },
  {
   "cell_type": "markdown",
   "metadata": {},
   "source": [
    "## Fit, predict, and calculate the scores for each label\n",
    "This step is similar to the previous one, only here we aren't splitting the data into train and test, but using all the records for train, to be used on the songs that aren't labeled. We will use the same split_equally, to randomly choose many times n_per_class items from each class, to have different versions from each classifier. For that, we will call split_equally again, this time with test_size=0:"
   ]
  },
  {
   "cell_type": "code",
   "execution_count": null,
   "metadata": {},
   "outputs": [],
   "source": [
    "def fit_and_save_classifiers(classifiers, X, y, all_scores, conf_mats, models_fol):\n",
    "    for clf_name, clf in tqdm(classifiers.items()):\n",
    "        # Calculate the mean (over the splits) for the classifier's scores\n",
    "        score, max_probs_score, var_prob_score, roc_auc_ovo, roc_auc_ovr = calc_mean_scores(all_scores, clf_name)\n",
    "        # Create 10 random equally selected train sets and save the classifiers\n",
    "        all_data_split = split_equally(y, n_split=10, test_size=0)\n",
    "        for split_ind, (train, _) in enumerate(all_data_split):\n",
    "            clf.fit(X[train], y[train])\n",
    "            utils.save(clf, op.join(models_fol, '{}_{}.pkl'.format(clf_name, split_ind)))\n",
    "\n",
    "\n",
    "def calc_mean_scores(all_scores, clf_name):\n",
    "    score = np.mean([scores[0] for scores in all_scores[clf_name]])\n",
    "    max_probs_score = np.mean([scores[1] for scores in all_scores[clf_name]])\n",
    "    var_prob_score = np.mean([scores[2] for scores in all_scores[clf_name]])\n",
    "    roc_auc_ovo = np.mean([scores[3] for scores in all_scores[clf_name]])\n",
    "    roc_auc_ovr = np.mean([scores[4] for scores in all_scores[clf_name]])\n",
    "    return score, max_probs_score, var_prob_score, roc_auc_ovo, roc_auc_ovr"
   ]
  },
  {
   "cell_type": "markdown",
   "metadata": {},
   "source": [
    "We can choose to save all the classifiers, or to use the scores to save only the good ones. I decided to save all of them, and used the scores where we predict the test labels.\n",
    "Overall, the training function looks like that:"
   ]
  },
  {
   "cell_type": "code",
   "execution_count": null,
   "metadata": {},
   "outputs": [],
   "source": [
    "def train(overwrite=False):\n",
    "    songs_composers_fname = op.join(PROJECT_FOL, 'songs_composers.pkl')\n",
    "    songs_features_fname = op.join(PROJECT_FOL, 'songs_features.csv')\n",
    "    figures_fol = utils.make_dir(op.join(PROJECT_FOL, 'figures_train'))\n",
    "    models_fol = utils.make_dir(op.join(PROJECT_FOL, 'models'))\n",
    "\n",
    "    features = pd.read_csv(songs_features_fname, index_col=0, header=[0, 1, 2])\n",
    "    songs_names = get_songs_names(features)\n",
    "    songs_composers = utils.load(songs_composers_fname)\n",
    "    # Find all the labels from thte buffer names\n",
    "    labels = [songs_composers[get_song_name(buffer_name, True)] for buffer_name in features.index]\n",
    "\n",
    "    X = standardize_features(train_features)\n",
    "    y = encode_labels(labels)\n",
    "\n",
    "    # Features selection\n",
    "    features_selection_model = SelectKBest(mutual_info_classif, k=features_selection_num).fit(X, y)\n",
    "    utils.save(features_selection_model, op.join(PROJECT_FOL, 'features_selection_model.pkl'))\n",
    "    X = features_selection_model.transform(X)\n",
    "\n",
    "    classifiers = get_classifiers()\n",
    "    all_scores, conf_mats = calc_training_scores(X, y, classifiers, figures_fol, songs_names, overwrite)\n",
    "    fit_and_save_classifiers(classifiers, X, y, all_scores, conf_mats, models_fol)"
   ]
  },
  {
   "cell_type": "markdown",
   "metadata": {},
   "source": [
    "## Results\n",
    "\n",
    "Here are the results of the best classifiers - high score, high certainty (max_probs) and high AUC:\n",
    "\n",
    "Classifier: MLP2 <br/>\n",
    "score: 0.861, max_probs: 0.938, var_probs: 0.165, roc_auc: 0.967 <br/>\n",
    "Confusion matrix: <br/>\n",
    "88, 1, 1, 1 <br/>\n",
    "1, 73, 6, 8 <br/>\n",
    "0, 6, 75, 7 <br/>\n",
    "1, 10, 8, 74 <br/>\n",
    "\n",
    "Classifier: MLP1 <br/>\n",
    "score: 0.856, max_probs: 0.914, var_probs: 0.157, roc_auc: 0.968 <br/>\n",
    "Confusion matrix: <br/>\n",
    "88, 3, 1, 2 <br/>\n",
    "1, 72, 8, 9 <br/>\n",
    "0, 6, 75, 6 <br/>\n",
    "1, 9, 6, 73 <br/>\n",
    "\n",
    "Classifier: SCVrbf <br/>\n",
    "score: 0.861, max_probs: 0.804, var_probs: 0.115, roc_auc: 0.970 <br/>\n",
    "Confusion matrix: <br/>\n",
    "89, 1, 2, 2 <br/>\n",
    "0, 72, 6, 8 <br/>\n",
    "0, 7, 77, 8 <br/>\n",
    "1, 10, 5, 72 <br/>\n"
   ]
  },
  {
   "cell_type": "markdown",
   "metadata": {},
   "source": [
    "And the rest of the classifiers:\n",
    "\n",
    "Classifier: ExtraTrees <br/>\n",
    "score: 0.828, max_probs: 0.703, var_probs: 0.085, roc_auc: 0.961 <br/>\n",
    "Confusion matrix: <br/>\n",
    "89, 2, 1, 2 <br/>\n",
    "0, 60, 5, 7 <br/>\n",
    "0, 17, 81, 13 <br/>\n",
    "1, 11, 3, 68 <br/>\n",
    "\n",
    "Classifier: RandomForest <br/>\n",
    "score: 0.806, max_probs: 0.680, var_probs: 0.078, roc_auc: 0.946 <br/>\n",
    "Confusion matrix: <br/>\n",
    "89, 2, 3, 4 <br/>\n",
    "0, 63, 9, 9 <br/>\n",
    "0, 16, 74, 13 <br/>\n",
    "1, 9, 4, 64 <br/>\n",
    "\n",
    "Classifier: kNN <br/>\n",
    "score: 0.806, max_probs: 0.824, var_probs: 0.130, roc_auc: 0.947 <br/>\n",
    "Confusion matrix: <br/>\n",
    "89, 1, 2, 5 <br/>\n",
    "0, 60, 5, 9 <br/>\n",
    "0, 14, 76, 11 <br/>\n",
    "1, 15, 7, 65 <br/>\n",
    "\n",
    "Classifier: LR1 <br/>\n",
    "score: 0.744, max_probs: 0.703, var_probs: 0.084, roc_auc: 0.913 <br/>\n",
    "Confusion matrix: <br/>\n",
    "86, 3, 4, 4 <br/>\n",
    "3, 61, 11, 14 <br/>\n",
    "0, 12, 64, 15 <br/>\n",
    "1, 14, 11, 57 <br/>\n",
    "\n",
    "Classifier: LR2 <br/>\n",
    "score: 0.758, max_probs: 0.787, var_probs: 0.113, roc_auc: 0.918 <br/>\n",
    "Confusion matrix: <br/>\n",
    "86, 2, 4, 2 <br/>\n",
    "3, 63, 12, 16 <br/>\n",
    "0, 9, 63, 11 <br/>\n",
    "1, 16, 11, 61 <br/>\n",
    "\n",
    "Classifier: SVCpoly <br/>\n",
    "score: 0.750, max_probs: 0.681, var_probs: 0.080, roc_auc: 0.923 <br/>\n",
    "Confusion matrix: <br/>\n",
    "89, 4, 4, 7 <br/>\n",
    "1, 51, 7, 10 <br/>\n",
    "0, 17, 70, 13 <br/>\n",
    "0, 18, 9, 60 <br/>\n",
    "\n",
    "Classifier: linSVC <br/>\n",
    "score: 0.744, max_probs: 0.650, var_probs: 0.072, roc_auc: 0.923 <br/>\n",
    "Confusion matrix: <br/>\n",
    "86, 3, 4, 3 <br/>\n",
    "1, 65, 16, 21 <br/>\n",
    "0, 7, 62, 11 <br/>\n",
    "3, 15, 8, 55 <br/>\n",
    "\n",
    "Classifier: DecisionTree <br/>\n",
    "score: 0.653, max_probs: 1.000, var_probs: 0.188, roc_auc: 0.769 <br/>\n",
    "Confusion matrix: <br/>\n",
    "73, 11, 6, 12 <br/>\n",
    "6, 53, 13, 21 <br/>\n",
    "3, 11, 64, 12 <br/>\n",
    "8, 15, 7, 45 <br/>"
   ]
  },
  {
   "cell_type": "markdown",
   "metadata": {},
   "source": [
    "To visually explore the results, I plotted a scatter plot for each model (10 per classifier) where x_axis is the p_max (how certain is the model), and y_axis is the second biggest probability. Here is an example of one of the Multi-layer Perceptron (MLP2) classifiers:"
   ]
  },
  {
   "attachments": {
    "MLP2_7.jpg": {
     "image/jpeg": "[encoded data removed]"
    }
   },
   "cell_type": "markdown",
   "metadata": {},
   "source": [
    "![MLP2_7.jpg](attachment:MLP2_7.jpg)"
   ]
  },
  {
   "cell_type": "markdown",
   "metadata": {},
   "source": [
    "Where the green dots were classified correctly, and the red dots were not."
   ]
  },
  {
   "cell_type": "markdown",
   "metadata": {},
   "source": [
    "# Testing\n",
    "\n",
    "First, we will read the testing features from the csv file, standardize them, and reduce their dimensionality using the features_selection_model we trained on the training dataset:"
   ]
  },
  {
   "cell_type": "code",
   "execution_count": null,
   "metadata": {},
   "outputs": [],
   "source": [
    "features_test = pd.read_csv(songs_features_test_fname, index_col=0, header=[0, 1, 2])\n",
    "songs_names = get_songs_names(features_test)\n",
    "X = standardize_features(features_test)\n",
    "\n",
    "# Features selection\n",
    "features_selection_model = utils.load(op.join(PROJECT_FOL, 'features_selection_model.pkl'))\n",
    "X = features_selection_model.transform(X)"
   ]
  },
  {
   "cell_type": "markdown",
   "metadata": {},
   "source": [
    "Next, we will go over all the classifiers that we trained and saved, and use them to calculate the probabilities for all the songs' buffers in the test dataset. For each classifier, we will calculate the following scores:\n",
    "* probs_var: measures the uncertainty - low variance means high uncertainty (all the labels get similar probabilities), where high variance means low uncertainty (one high probability and all the rest are small)\n",
    "* probs_max: measures the certainty - how much the classifier is \"sure\" about its decision"
   ]
  },
  {
   "cell_type": "code",
   "execution_count": null,
   "metadata": {},
   "outputs": [],
   "source": [
    "models = glob.glob(op.join(models_fol, '*.pkl'))\n",
    "for model_fname in tqdm(models):\n",
    "    clf_name = op.basename(model_fname).split('_')[0]\n",
    "    clf = utils.load(model_fname)\n",
    "    probs = clf.predict_proba(X)\n",
    "    probs_var = np.var(probs, axis=1)\n",
    "    if np.all(probs_var == probs_var[0]):\n",
    "        continue\n",
    "    probs_max = np.max(probs, axis=1)\n",
    "    models_probs_var[clf_name].append(probs_var)\n",
    "    models_probs_max[clf_name].append(probs_max)"
   ]
  },
  {
   "cell_type": "markdown",
   "metadata": {},
   "source": [
    "Now, for each classifier, we can average the scores for each classifier. Remember that we trained 10 times using random picking with each classifier. For each classifier, we will present the scores using a scatter plot, where the x axis is the certainty score (max_p), and the y is the uncertainty (var_p):"
   ]
  },
  {
   "cell_type": "code",
   "execution_count": null,
   "metadata": {},
   "outputs": [],
   "source": [
    "for clf_name, model_probs_var in models_probs_var.items():\n",
    "    score, max_probs_score, var_prob_score, roc_auc_ovo, roc_auc_ovr = calc_mean_scores(all_scores, clf_name)\n",
    "    # Take only the best classifiers, who gives score * max_probs_score > 0.8\n",
    "    if score * max_probs_score < 0.8:\n",
    "        continue\n",
    "\n",
    "    # Average the scores \n",
    "    model_mean_probs_var = np.array(model_probs_var).mean(0)\n",
    "    model_mean_probs_max = np.array(models_probs_max[clf_name]).mean(0)\n",
    "    \n",
    "    songs_probs_max, songs_probs_var = defaultdict(list), defaultdict(list)\n",
    "    for ind in range(len(songs_names)):\n",
    "        songs_probs_max[songs_names[ind]].append(model_mean_probs_max[ind])\n",
    "        songs_probs_var[songs_names[ind]].append(model_mean_probs_var[ind])\n",
    "\n",
    "    # Averaging the scores for each song (each song can many scores as the number of buffers)\n",
    "    songs_probs_max_mean = [np.mean(probs) for song_name, probs in songs_probs_max.items()]\n",
    "    songs_probs_var_mean = [np.mean(probs) for song_name, probs in songs_probs_var.items()]\n",
    "\n",
    "    # Plot certainty scatter plot (max(p) / var(p)\n",
    "    plot_certainty_scatter_plot(clf_name, model_mean_probs_max, model_mean_probs_var, figures_fol)\n",
    "\n",
    "    # Sort the songs according to the certainty (songs_probs_max), from low to high\n",
    "    # Take a cutoff of 0.85, based on the MLP2 certainty scatter plot\n",
    "    # This number should be calculated automatically\n",
    "    songs_scores = sorted([(np.mean(probs), song_name) for song_name, probs in songs_probs_max.items()\n",
    "                      if (np.mean(probs) < 0.85)])\n",
    "    print('Classifier: {}'.format(clf_name))\n",
    "    print(songs_scores)\n",
    "\n",
    "\n",
    "def plot_certainty_scatter_plot(clf_name, model_mean_probs_max, model_mean_probs_var, figures_fol):\n",
    "    import matplotlib.pyplot as plt\n",
    "    plt.figure()\n",
    "    plt.scatter(model_mean_probs_max, model_mean_probs_var)\n",
    "    plt.title(clf_name)\n",
    "    plt.xlabel('max(p)')\n",
    "    plt.ylabel('var(p)')\n",
    "    plt.savefig(op.join(figures_fol, '{}.jpg'.format(clf_name)))\n",
    "    plt.close()"
   ]
  },
  {
   "cell_type": "markdown",
   "metadata": {},
   "source": [
    "Here is the certainty (max(p) / var(p)) scatter plot using the best classifier - Multi-layer Perceptron (MLP2)"
   ]
  },
  {
   "attachments": {
    "MLP2.jpg": {
     "image/jpeg": "[encoded data removed]"
    }
   },
   "cell_type": "markdown",
   "metadata": {},
   "source": [
    "![MLP2.jpg](attachment:MLP2.jpg)"
   ]
  },
  {
   "cell_type": "markdown",
   "metadata": {},
   "source": [
    "### Choosing the outliers\n",
    "To choose the outliers songs - songs that weren't composed by any of the composers from the training dataset, we will find the songs with the average lowest certainty (max(p) < 0.85)\n",
    "Here are the 6 songs with the lowest certainty:\n",
    "\n",
    "* '0.3559970176888735_adj' (0.756)\n",
    "* '0.1755252422917658_adj' (0.818) \n",
    "* '0.22047111832936942_adj' (0.838)\n",
    "* '0.7491289879531658_adj' (0.84) \n",
    "* '0.337517805339117_adj' (0.84) \n",
    "* '0.23120017256495873_adj' (0.84)"
   ]
  },
  {
   "cell_type": "markdown",
   "metadata": {},
   "source": [
    "## Improvements \n",
    "* It's a bit hard to find the exact number of outliers. Also, a different classifier with a bit lower score would give us different results. Therefore, this approach is not very robust. Maybe an ensemble approach would help.\n",
    "* The two Multi-layer Perceptrons gave the best results, where the hidden_layer_sizes was chosen hard coded. This parameters should be tuned using hyperparameter optimization, like with the rbf and poly SVM models.\n",
    "* The number of features in the features selection process should be tuned.\n",
    "* Add more features. For example, use the Spotify APIs.\n",
    "* Neural network such as Triplet Networks might improve the solution, like in this paper:\n",
    "https://arxiv.org/abs/2008.04938\n"
   ]
  }
 ],
 "metadata": {
  "kernelspec": {
   "display_name": "Python 3 (ipykernel)",
   "language": "python",
   "name": "python3"
  },
  "language_info": {
   "codemirror_mode": {
    "name": "ipython",
    "version": 3
   },
   "file_extension": ".py",
   "mimetype": "text/x-python",
   "name": "python",
   "nbconvert_exporter": "python",
   "pygments_lexer": "ipython3",
   "version": "3.9.13"
  }
 },
 "nbformat": 4,
 "nbformat_minor": 1
}
